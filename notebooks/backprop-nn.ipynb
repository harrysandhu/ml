{
 "cells": [
  {
   "cell_type": "markdown",
   "metadata": {},
   "source": [
    "## Backpropagation\n",
    "- fowards computes the loss, backward computes the gradients and then we can use the gradients to minimize the loss\n"
   ]
  },
  {
   "cell_type": "code",
   "execution_count": 1,
   "metadata": {},
   "outputs": [],
   "source": [
    "\n",
    "# Forward/backward API\n",
    "\n",
    "class ComputationalGraph():\n",
    "    def forward(inputs):\n",
    "        # 1. [pass inputs to input gates]\n",
    "        # 2. forawrd the computational graph\n",
    "        for gate in self.graph.nodes_toposorted():\n",
    "            gate.forward()\n",
    "        return loss   # the final gate in the graph outputs the loss\n",
    "    \n",
    "    def backward():\n",
    "        for gate in reversed(self.graph.nodes_toposorted()):\n",
    "            gate.backward()\n",
    "        return inputs_gradients\n",
    "    \n",
    "class MultiplyGate(object):\n",
    "    def forward(x, y):\n",
    "        z = x * y\n",
    "        self.x = x\n",
    "        self.y = y\n",
    "        return z\n",
    "    \n",
    "    def backward(dz):  # dl prefix\n",
    "        dx = dz * self.y  #[dz/dx * dl/dz]\n",
    "        dy = dz * self.x  #[dz/dy * dl/dz]\n",
    "        return [dx, dy]\n",
    "    \n",
    "    "
   ]
  },
  {
   "cell_type": "markdown",
   "metadata": {},
   "source": [
    "\n",
    "## Jacobians\n",
    "    - Why do you dont need to form jacobians?\n",
    "    - what is a jacobian matrix?\n",
    "    - what does it look like?\n",
    "    \n",
    "### vector operations\n",
    "- for large jacobians, you almost never compute gradients, you do it manually.\n",
    "#### for example:\n",
    "    - 4096 d input vector  -> f(x) = max(0, x) (elementwise) ->   4096-d output vector\n",
    "        so dldx = dldf * [dfdx]\n",
    "        dfdx => diagonal matrix with most numbers as 1, so no point of storing 4096x4096 matrix.!!!\n",
    "        \n",
    "        \n",
    "    \n"
   ]
  },
  {
   "cell_type": "code",
   "execution_count": null,
   "metadata": {},
   "outputs": [],
   "source": []
  }
 ],
 "metadata": {
  "kernelspec": {
   "display_name": "Python 3",
   "language": "python",
   "name": "python3"
  },
  "language_info": {
   "codemirror_mode": {
    "name": "ipython",
    "version": 3
   },
   "file_extension": ".py",
   "mimetype": "text/x-python",
   "name": "python",
   "nbconvert_exporter": "python",
   "pygments_lexer": "ipython3",
   "version": "3.8.6"
  }
 },
 "nbformat": 4,
 "nbformat_minor": 4
}
