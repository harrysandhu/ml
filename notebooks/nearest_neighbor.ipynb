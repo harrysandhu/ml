{
 "cells": [
  {
   "cell_type": "code",
   "execution_count": 3,
   "metadata": {},
   "outputs": [],
   "source": [
    "import numpy as np"
   ]
  },
  {
   "cell_type": "code",
   "execution_count": 8,
   "metadata": {},
   "outputs": [],
   "source": [
    "class NearestNeighbor:\n",
    "    def __init__(self):\n",
    "        pass\n",
    "    \n",
    "    def train(self, X, y):\n",
    "        \"\"\"\n",
    "        X is N x D where each row is an example. \n",
    "        Y is 1-D label vector. (N x 1)\n",
    "        \"\"\"\n",
    "        # nearest neighbor simply memorizes\n",
    "        self.Xtr = X\n",
    "        self.Ytr = y\n",
    "    \n",
    "    def predict(self, X):\n",
    "        \"\"\"\n",
    "        X is N x D where each row is an example we wish to predict\n",
    "        label for.\n",
    "        return: list, -> 1D vector of size N (N x 1).\n",
    "        \"\"\"\n",
    "        n = X.shape[0] # N\n",
    "        Ypred = np.zeros(n, dtype=self.ytr.dtype)\n",
    "        \n",
    "        # loop over all test rows\n",
    "        for i in range(n):\n",
    "            # find the nearest training image to the i'th test image\n",
    "            # using L1 distance\n",
    "            distances = np.sum(np.abs(self.Xtr - X[i,:]), axis=1)\n",
    "            min_index = np.argmin(distances) # get the index with the smallest distance\n",
    "            Ypred[i] = self.ytr[min_index]\n",
    "        return Ypred"
   ]
  },
  {
   "cell_type": "code",
   "execution_count": null,
   "metadata": {},
   "outputs": [],
   "source": []
  },
  {
   "cell_type": "code",
   "execution_count": null,
   "metadata": {},
   "outputs": [],
   "source": []
  }
 ],
 "metadata": {
  "kernelspec": {
   "display_name": "Python 3",
   "language": "python",
   "name": "python3"
  },
  "language_info": {
   "codemirror_mode": {
    "name": "ipython",
    "version": 3
   },
   "file_extension": ".py",
   "mimetype": "text/x-python",
   "name": "python",
   "nbconvert_exporter": "python",
   "pygments_lexer": "ipython3",
   "version": "3.8.6"
  }
 },
 "nbformat": 4,
 "nbformat_minor": 4
}
