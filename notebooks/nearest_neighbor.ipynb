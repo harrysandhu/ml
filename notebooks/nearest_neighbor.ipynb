{
 "cells": [
  {
   "cell_type": "code",
   "execution_count": 1,
   "metadata": {},
   "outputs": [
    {
     "name": "stdout",
     "output_type": "stream",
     "text": [
      "Populating the interactive namespace from numpy and matplotlib\n"
     ]
    }
   ],
   "source": [
    "%pylab inline\n",
    "import os\n",
    "import time\n",
    "\n",
    "import tensorflow as tf\n"
   ]
  },
  {
   "cell_type": "code",
   "execution_count": 39,
   "metadata": {},
   "outputs": [],
   "source": [
    "from tensorflow.keras.datasets import cifar10\n",
    "(x_train, y_train), (x_test, y_test) = cifar10.load_data()"
   ]
  },
  {
   "cell_type": "code",
   "execution_count": 41,
   "metadata": {},
   "outputs": [],
   "source": [
    "labelnames = {\"airplane\" : 0,\n",
    "\"automobile\" : 1,\n",
    "\"bird\" : 2,\n",
    "\"cat\" : 3,\n",
    "\"deer\" : 4,\n",
    "\"dog\" : 5,\n",
    "\"frog\" : 6,\n",
    "\"horse\" : 7,\n",
    "\"ship\" : 8,\n",
    "\"truck\" : 9}"
   ]
  },
  {
   "cell_type": "code",
   "execution_count": 42,
   "metadata": {},
   "outputs": [],
   "source": [
    "class NearestNeighbor:\n",
    "    def __init__(self):\n",
    "        pass\n",
    "    \n",
    "    def train(self, X, y):\n",
    "        \"\"\"\n",
    "        X is N x D where each row is an example. \n",
    "        Y is 1-D label vector. (N x 1)\n",
    "        \"\"\"\n",
    "        # nearest neighbor simply memorizes\n",
    "        self.Xtr = X\n",
    "        self.Ytr = y\n",
    "    \n",
    "    def predict(self, X):\n",
    "        \"\"\"\n",
    "        X is N x D where each row is an example we wish to predict\n",
    "        label for.\n",
    "        return: list, -> 1D vector of size N (N x 1).\n",
    "        \"\"\"\n",
    "        n = X.shape[0] # N\n",
    "        Ypred = np.zeros(n, dtype=self.Ytr.dtype)\n",
    "        \n",
    "        # loop over all test rows\n",
    "        for i in range(n):\n",
    "            \n",
    "            # find the nearest training image to the i'th test image\n",
    "            # using L1 distance\n",
    "            distances = np.sum(np.abs(self.Xtr - X[i,:]), axis=1)\n",
    "            min_index = np.argmin(distances) # get the index with the smallest distance\n",
    "            Ypred[i] = self.Ytr[min_index]\n",
    "        return Ypred"
   ]
  },
  {
   "cell_type": "code",
   "execution_count": 25,
   "metadata": {},
   "outputs": [],
   "source": [
    "x_train = x_train.reshape(x_train.shape[0], 32*32*3)\n",
    "x_test = x_test.reshape(x_test.shape[0], 32*32*3)"
   ]
  },
  {
   "cell_type": "code",
   "execution_count": 28,
   "metadata": {},
   "outputs": [],
   "source": [
    "nn = NearestNeighbor()\n",
    "nn.train(x_train[:1000], y_train[:1000])"
   ]
  },
  {
   "cell_type": "code",
   "execution_count": 37,
   "metadata": {},
   "outputs": [],
   "source": [
    "ypred = nn.predict(x_test)"
   ]
  },
  {
   "cell_type": "code",
   "execution_count": 45,
   "metadata": {},
   "outputs": [
    {
     "name": "stdout",
     "output_type": "stream",
     "text": [
      "1\n",
      "==========\n",
      "8\n",
      "==========\n",
      "0\n",
      "==========\n",
      "6\n",
      "==========\n",
      "2\n",
      "==========\n",
      "2\n",
      "==========\n",
      "4\n",
      "==========\n",
      "0\n",
      "==========\n",
      "1\n",
      "==========\n"
     ]
    },
    {
     "data": {
      "image/png": "[encoded data removed]",
      "text/plain": [
       "<Figure size 432x288 with 1 Axes>"
      ]
     },
     "metadata": {
      "needs_background": "light"
     },
     "output_type": "display_data"
    }
   ],
   "source": [
    "for i in range(1, 10):\n",
    "    print(ypred[i])\n",
    "    plt.imshow(x_test[i].reshape(32, 32, 3))\n",
    "    print(\"=\"*10)"
   ]
  },
  {
   "cell_type": "code",
   "execution_count": null,
   "metadata": {},
   "outputs": [],
   "source": []
  }
 ],
 "metadata": {
  "kernelspec": {
   "display_name": "Python 3",
   "language": "python",
   "name": "python3"
  },
  "language_info": {
   "codemirror_mode": {
    "name": "ipython",
    "version": 3
   },
   "file_extension": ".py",
   "mimetype": "text/x-python",
   "name": "python",
   "nbconvert_exporter": "python",
   "pygments_lexer": "ipython3",
   "version": "3.8.6"
  }
 },
 "nbformat": 4,
 "nbformat_minor": 4
}
