{
 "cells": [
  {
   "cell_type": "code",
   "execution_count": 10,
   "metadata": {},
   "outputs": [],
   "source": [
    "import numpy as np\n",
    "import matplotlib.pyplot as plt\n",
    "from scipy.optimize import minimize\n"
   ]
  },
  {
   "cell_type": "code",
   "execution_count": 11,
   "metadata": {},
   "outputs": [
    {
     "name": "stdout",
     "output_type": "stream",
     "text": [
      "4.604726146222206\n"
     ]
    },
    {
     "data": {
      "image/png": "[encoded data removed]",
      "text/plain": [
       "<Figure size 432x288 with 1 Axes>"
      ]
     },
     "metadata": {
      "needs_background": "light"
     },
     "output_type": "display_data"
    }
   ],
   "source": [
    "def predict(x, y, newx):\n",
    "    n = len(x)\n",
    "    \n",
    "    sumx = 0\n",
    "    sumy = 0\n",
    "    for i in range(n):\n",
    "        sumx += x[i]\n",
    "        sumy += y[i]\n",
    "    meanx = sumx/n\n",
    "    meany = sumy/n\n",
    "    \n",
    "    sxy = 0 #sample covariance\n",
    "    sx2 = 0 #variance\n",
    "    for i in range(n):\n",
    "        sxy += (x[i] - meanx) * (y[i] - meany)\n",
    "        sx2 += (x[i] - meanx) ** 2\n",
    "        \n",
    "    sxy /= n-1\n",
    "    sx2 /= n-1\n",
    "    k = sxy/sx2;\n",
    "    \n",
    "    return (k * (newx - meanx)) + meany\n",
    "\n",
    "    \n",
    "sy = np.array([4.2, 3.3, 5.3, 7.2, 8.6, 9.4, 8.4]) \n",
    "x = np.array([3430, 4000, 5500, 6300, 9200, 9900, 9400])\n",
    "\n",
    "\n",
    "newys = []\n",
    "for i in range(len(x)):\n",
    "    newys.append(predict(x, sy, x[i]))\n",
    "\n",
    "    \n",
    "sampley = []\n",
    "samplex = []\n",
    "for i in range(10000):\n",
    "    samplex.append(i)\n",
    "    sampley.append(predict(x, sy,i))\n",
    "\n",
    "\n",
    "#visualize the model\n",
    "plt.plot(samplex, sampley, color='green')\n",
    "#scatter the data\n",
    "plt.scatter(x, sy)\n",
    "\n",
    "# \n",
    "tx = 4444\n",
    "ty = predict(x, sy, tx)\n",
    "plt.scatter(tx, ty, color='red')\n",
    "\n",
    "#predicted y\n",
    "print(ty)"
   ]
  },
  {
   "cell_type": "code",
   "execution_count": null,
   "metadata": {},
   "outputs": [],
   "source": []
  },
  {
   "cell_type": "code",
   "execution_count": null,
   "metadata": {},
   "outputs": [],
   "source": [
    "\"\"\"minimize sum( )\"\"\""
   ]
  }
 ],
 "metadata": {
  "kernelspec": {
   "display_name": "Python 3",
   "language": "python",
   "name": "python3"
  },
  "language_info": {
   "codemirror_mode": {
    "name": "ipython",
    "version": 3
   },
   "file_extension": ".py",
   "mimetype": "text/x-python",
   "name": "python",
   "nbconvert_exporter": "python",
   "pygments_lexer": "ipython3",
   "version": "3.7.6"
  }
 },
 "nbformat": 4,
 "nbformat_minor": 4
}
