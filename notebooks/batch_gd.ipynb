{
 "cells": [
  {
   "cell_type": "code",
   "execution_count": 43,
   "metadata": {},
   "outputs": [],
   "source": [
    "\"\"\"\n",
    "\n",
    "Batch gradient descent algorthim : this dumbass uses the entire data set to minimize the cost function. STUPID.\n",
    "\n",
    "Idea: tweak paramters interatively to minimize a cost function\n",
    "\n",
    "Gradient Descent: measures the local gradient of the error/cost function with wrt the parameter vector O ,\n",
    "it goes in the direction of the descending gradient. \n",
    "Once the gradient is zero - you have reached the minimum.\n",
    "\"\"\"\n",
    "\n",
    "\"\"\"\n",
    "    start by filling 0 with random values (random initializaiton) and then you improve it gradually, each step\n",
    "    attempting to decrease the cost function, until the algorithm converges to a minimum.\n",
    "\"\"\"\n",
    "\n",
    "\"\"\"\n",
    "    ----Learning rate Hyperparamater---\n",
    "    \n",
    "    BASICALLY SIZE OF STEPS.\n",
    "    if learning rate small - more steps - long time and vice versa.\n",
    "    But, if LR large, we might jump across the minimum - we might not arrive at the minimum.\n",
    "\n",
    "\"\"\"\n",
    "import numpy as np\n",
    "import matplotlib.pyplot as plt\n",
    "eta = 0.001\n",
    "n_iter = 100000\n",
    "m = 100\n",
    "X_pre = np.random.rand(m, 1)\n",
    "\n",
    "\n",
    "# data\n",
    "X = np.c_[np.ones((m,1)), X_pre]\n",
    "y = 4 + 3*X_pre + np.random.rand(m,1)\n",
    "\n",
    "# parameters\n",
    "theta = np.random.randn(2,1)\n",
    "\n",
    "\n",
    "for i in range(n_iter):\n",
    "    grad = X.T.dot(X.dot(theta)-y)\n",
    "    theta = theta - eta*grad\n",
    "    \n"
   ]
  },
  {
   "cell_type": "code",
   "execution_count": 44,
   "metadata": {},
   "outputs": [
    {
     "data": {
      "text/plain": [
       "[<matplotlib.lines.Line2D at 0x11eb92a90>]"
      ]
     },
     "execution_count": 44,
     "metadata": {},
     "output_type": "execute_result"
    },
    {
     "data": {
      "image/png": "[encoded data removed]",
      "text/plain": [
       "<Figure size 432x288 with 1 Axes>"
      ]
     },
     "metadata": {
      "needs_background": "light"
     },
     "output_type": "display_data"
    }
   ],
   "source": [
    "plt.scatter(X_pre, y)\n",
    "Y = []\n",
    "for xi in X:\n",
    "    Y.append(theta.T.dot(xi))\n",
    "\n",
    "plt.plot(X_pre, Y, color=\"red\")"
   ]
  },
  {
   "cell_type": "code",
   "execution_count": null,
   "metadata": {},
   "outputs": [],
   "source": []
  }
 ],
 "metadata": {
  "kernelspec": {
   "display_name": "Python 3",
   "language": "python",
   "name": "python3"
  },
  "language_info": {
   "codemirror_mode": {
    "name": "ipython",
    "version": 3
   },
   "file_extension": ".py",
   "mimetype": "text/x-python",
   "name": "python",
   "nbconvert_exporter": "python",
   "pygments_lexer": "ipython3",
   "version": "3.8.6"
  }
 },
 "nbformat": 4,
 "nbformat_minor": 4
}
