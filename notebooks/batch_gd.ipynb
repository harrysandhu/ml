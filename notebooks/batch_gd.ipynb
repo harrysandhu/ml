{
 "cells": [
  {
   "cell_type": "code",
   "execution_count": 1,
   "metadata": {},
   "outputs": [
    {
     "name": "stdout",
     "output_type": "stream",
     "text": [
      "[[4.55161174]\n",
      " [2.94082883]]\n"
     ]
    },
    {
     "ename": "NameError",
     "evalue": "name 'plt' is not defined",
     "output_type": "error",
     "traceback": [
      "\u001b[0;31m---------------------------------------------------------------------------\u001b[0m",
      "\u001b[0;31mNameError\u001b[0m                                 Traceback (most recent call last)",
      "\u001b[0;32m<ipython-input-1-82bf725c4072>\u001b[0m in \u001b[0;36m<module>\u001b[0;34m\u001b[0m\n\u001b[1;32m     47\u001b[0m \u001b[0mprint\u001b[0m\u001b[0;34m(\u001b[0m\u001b[0mtheta\u001b[0m\u001b[0;34m)\u001b[0m\u001b[0;34m\u001b[0m\u001b[0;34m\u001b[0m\u001b[0m\n\u001b[1;32m     48\u001b[0m \u001b[0;34m\u001b[0m\u001b[0m\n\u001b[0;32m---> 49\u001b[0;31m \u001b[0mplt\u001b[0m\u001b[0;34m.\u001b[0m\u001b[0mscatter\u001b[0m\u001b[0;34m(\u001b[0m\u001b[0mthetas\u001b[0m\u001b[0;34m,\u001b[0m \u001b[0mcosts\u001b[0m\u001b[0;34m)\u001b[0m\u001b[0;34m\u001b[0m\u001b[0;34m\u001b[0m\u001b[0m\n\u001b[0m\u001b[1;32m     50\u001b[0m \u001b[0;34m\u001b[0m\u001b[0m\n",
      "\u001b[0;31mNameError\u001b[0m: name 'plt' is not defined"
     ]
    }
   ],
   "source": [
    "\"\"\"\n",
    "\n",
    "Batch gradient descent algorthim : this dumbass uses the entire data set to minimize the cost function. STUPID.\n",
    "\n",
    "Idea: tweak paramters interatively to minimize a cost function\n",
    "\n",
    "Gradient Descent: measures the local gradient of the error/cost function with wrt the parameter vector O ,\n",
    "it goes in the direction of the descending gradient. \n",
    "Once the gradient is zero - you have reached the minimum.\n",
    "\"\"\"\n",
    "\n",
    "\"\"\"\n",
    "    start by filling 0 with random values (random initializaiton) and then you improve it gradually, each step\n",
    "    attempting to decrease the cost function, until the algorithm converges to a minimum.\n",
    "\"\"\"\n",
    "\n",
    "\"\"\"\n",
    "    ----Learning rate Hyperparamater---\n",
    "    \n",
    "    BASICALLY SIZE OF STEPS.\n",
    "    if learning rate small - more steps - long time and vice versa.\n",
    "    But, if LR large, we might jump across the minimum - we might not arrive at the minimum.\n",
    "\n",
    "\"\"\"\n",
    "import numpy as np\n",
    "import matplotlib.pyplot as plt\n",
    "eta = 0.1\n",
    "n_iter = 1000\n",
    "m = 100\n",
    "X_pre = np.random.rand(m, 1)\n",
    "X = np.c_[np.ones((m,1)), X_pre]\n",
    "\n",
    "theta = np.random.randn(2,1)\n",
    "y = 4 + 3*X_pre + np.random.rand(m,1)\n",
    "\n",
    "costs = []\n",
    "thetas = []\n",
    "\n",
    "for i in range(n_iter):\n",
    "    g = 2/m * X.T.dot(X.dot(theta)-y)  \n",
    "    theta = theta - eta*g\n",
    "    cost = (2/m) * (X.dot(theta) - y).T.dot((X.dot(theta) - y))\n",
    "    costs.append(cost[0][0])\n",
    "    thetas.append(theta[1])\n",
    "\n",
    "    \n",
    "    \n",
    "print(theta)\n",
    "\n",
    "plt.scatter(thetas, costs)\n",
    "    "
   ]
  },
  {
   "cell_type": "code",
   "execution_count": null,
   "metadata": {},
   "outputs": [],
   "source": []
  },
  {
   "cell_type": "code",
   "execution_count": null,
   "metadata": {},
   "outputs": [],
   "source": []
  }
 ],
 "metadata": {
  "kernelspec": {
   "display_name": "Python 3",
   "language": "python",
   "name": "python3"
  },
  "language_info": {
   "codemirror_mode": {
    "name": "ipython",
    "version": 3
   },
   "file_extension": ".py",
   "mimetype": "text/x-python",
   "name": "python",
   "nbconvert_exporter": "python",
   "pygments_lexer": "ipython3",
   "version": "3.7.6"
  }
 },
 "nbformat": 4,
 "nbformat_minor": 4
}
