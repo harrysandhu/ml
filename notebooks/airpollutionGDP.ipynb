{
 "cells": [
  {
   "cell_type": "code",
   "execution_count": 119,
   "metadata": {},
   "outputs": [
    {
     "data": {
      "text/plain": [
       "'\\nModels Air pollution to the GDP, because you are rich and clean, so go buy TSLA.\\n'"
      ]
     },
     "execution_count": 119,
     "metadata": {},
     "output_type": "execute_result"
    }
   ],
   "source": [
    "\"\"\"\n",
    "Models Air pollution to the GDP, because you are rich and clean, so go buy TSLA.\n",
    "\"\"\""
   ]
  },
  {
   "cell_type": "code",
   "execution_count": 178,
   "metadata": {},
   "outputs": [
    {
     "name": "stdout",
     "output_type": "stream",
     "text": [
      "[ 5 16 15  7 20  9  6 13 14 18 19  3  7 18 14 28 12 16 14  5  5 22 10 21\n",
      " 11  6 15 20 11 10 16 21 11 15 16 14 14]\n",
      "['AUS' 'AUT' 'BEL' 'CAN' 'CZE' 'DNK' 'FIN' 'FRA' 'DEU' 'GRC' 'HUN' 'ISL'\n",
      " 'IRL' 'ITA' 'JPN' 'KOR' 'LUX' 'MEX' 'NLD' 'NZL' 'NOR' 'POL' 'PRT' 'SVK'\n",
      " 'ESP' 'SWE' 'CHE' 'TUR' 'GBR' 'USA' 'CHL' 'ISR' 'LVA' 'RUS' 'SVN' 'OECD'\n",
      " 'LTU']\n",
      "[ 50284  52614  48610  46480  35880  51961  44929  42853  50564  27823\n",
      "  27699  53031  72017  39922  39990  39566 110249  19506  52284  39906\n",
      "  58917  27947  31604  29651  37309  50433  65720  26509  44138  57884\n",
      "  22624  31228  37855  33875  42862  26407  30924]\n"
     ]
    }
   ],
   "source": [
    "import numpy as np\n",
    "import matplotlib.pyplot as plt\n",
    "import math\n",
    "import sklearn.linear_model\n",
    "import sklearn.neighbors\n",
    "\n",
    "#get the data\n",
    "f = open(\"../data/airpoll.csv\")\n",
    "data = f.readlines()\n",
    "apv = []\n",
    "cs = []\n",
    "gdp = []\n",
    "\n",
    "for r in range(1, len(data)):\n",
    "    c = data[r].split(\",\")[0].replace('\"', '')\n",
    "    if c not in ['BRA', 'EST', 'ZAF', 'COL']:\n",
    "        cs.append(data[r].split(\",\")[0].replace('\"', ''))\n",
    "        apv.append(int(data[r].split(\",\")[14]))\n",
    "f.close()\n",
    "\n",
    "f = open(\"../data/gdp.csv\")\n",
    "data = f.readlines()\n",
    "for r in range(1, len(data)):\n",
    "    gdp.append(math.floor(float(data[r].split(\",\")[6])))\n",
    "\n",
    "f.close()\n",
    "gdp = np.array(gdp)\n",
    "apv = np.array(apv)\n",
    "cs = np.array(cs)\n",
    "print(apv)\n",
    "print(cs)\n",
    "print(gdp)\n"
   ]
  },
  {
   "cell_type": "code",
   "execution_count": 118,
   "metadata": {},
   "outputs": [
    {
     "data": {
      "text/plain": [
       "Text(0, 0.5, 'Air Pollution (Micrograms per cubic meter)')"
      ]
     },
     "execution_count": 118,
     "metadata": {},
     "output_type": "execute_result"
    },
    {
     "data": {
      "image/png": "[encoded data removed]",
      "text/plain": [
       "<Figure size 432x288 with 1 Axes>"
      ]
     },
     "metadata": {
      "needs_background": "light"
     },
     "output_type": "display_data"
    }
   ],
   "source": [
    "plt.scatter(gdp, apv)\n",
    "plt.xlabel('GDP')\n",
    "plt.ylabel('Air Pollution (Micrograms per cubic meter)')"
   ]
  },
  {
   "cell_type": "code",
   "execution_count": 193,
   "metadata": {},
   "outputs": [],
   "source": [
    "#new linear regression model\n",
    "lrm = sklearn.linear_model.LinearRegression()\n",
    "knn = sklearn.neighbors.KNeighborsRegressor(n_neighbors=3)"
   ]
  },
  {
   "cell_type": "code",
   "execution_count": 194,
   "metadata": {},
   "outputs": [],
   "source": [
    "gdp = gdp.reshape(-1,1)\n",
    "apv = apv.reshape(-1,1)"
   ]
  },
  {
   "cell_type": "code",
   "execution_count": 195,
   "metadata": {},
   "outputs": [
    {
     "data": {
      "text/plain": [
       "KNeighborsRegressor(algorithm='auto', leaf_size=30, metric='minkowski',\n",
       "                    metric_params=None, n_jobs=None, n_neighbors=3, p=2,\n",
       "                    weights='uniform')"
      ]
     },
     "execution_count": 195,
     "metadata": {},
     "output_type": "execute_result"
    }
   ],
   "source": [
    "#train the model\n",
    "lrm.fit(gdp, apv)\n",
    "knn.fit(gdp, apv)"
   ]
  },
  {
   "cell_type": "code",
   "execution_count": 197,
   "metadata": {},
   "outputs": [
    {
     "data": {
      "text/plain": [
       "[<matplotlib.lines.Line2D at 0x11ad79dd0>]"
      ]
     },
     "execution_count": 197,
     "metadata": {},
     "output_type": "execute_result"
    },
    {
     "data": {
      "image/png": "[encoded data removed]",
      "text/plain": [
       "<Figure size 432x288 with 1 Axes>"
      ]
     },
     "metadata": {
      "needs_background": "light"
     },
     "output_type": "display_data"
    }
   ],
   "source": [
    "newys = []\n",
    "newxs = []\n",
    "\n",
    "\n",
    "for i in range(10000, 120000, 1000):\n",
    "    newxs.append(i)\n",
    "    \n",
    "newxs = np.array(newxs).reshape(-1, 1)\n",
    "\n",
    "for i in newxs:    \n",
    "    newys.append(lrm.predict(i.reshape(-1,1))[0][0])\n",
    "\n",
    "kx = []\n",
    "ky = []\n",
    "\n",
    "for i in range(10000, 120000, 1000):\n",
    "    kx.append(i)\n",
    "    \n",
    "kx = np.array(kx).reshape(-1, 1)\n",
    "\n",
    "for i in kx:    \n",
    "    ky.append(knn.predict(i.reshape(-1,1))[0][0])\n",
    "\n",
    "    \n",
    "\n",
    "#boom\n",
    "\n",
    "plt.scatter(gdp, apv)\n",
    "plt.xlabel('GDP')\n",
    "plt.ylabel('Air Pollution (Micrograms per cubic meter)')\n",
    "plt.plot(newxs, newys, color='red')\n",
    "plt.plot(kx, ky, color='green')"
   ]
  },
  {
   "cell_type": "code",
   "execution_count": null,
   "metadata": {},
   "outputs": [],
   "source": [
    "#test\n",
    "\n"
   ]
  }
 ],
 "metadata": {
  "kernelspec": {
   "display_name": "Python 3",
   "language": "python",
   "name": "python3"
  },
  "language_info": {
   "codemirror_mode": {
    "name": "ipython",
    "version": 3
   },
   "file_extension": ".py",
   "mimetype": "text/x-python",
   "name": "python",
   "nbconvert_exporter": "python",
   "pygments_lexer": "ipython3",
   "version": "3.7.6"
  }
 },
 "nbformat": 4,
 "nbformat_minor": 4
}
