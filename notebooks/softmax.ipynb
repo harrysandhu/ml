{
 "cells": [
  {
   "cell_type": "code",
   "execution_count": 9,
   "metadata": {},
   "outputs": [
    {
     "data": {
      "text/plain": [
       "LogisticRegression(C=10, multi_class='multinomial')"
      ]
     },
     "execution_count": 9,
     "metadata": {},
     "output_type": "execute_result"
    }
   ],
   "source": [
    "\"\"\"\n",
    "    Softmax regression\n",
    "    prediction:\n",
    "    \n",
    "        sk = thetak.T.x\n",
    "        s = [s1,s2,s3......sk]\n",
    "        theta = [t1, t2,t3.....tk]\n",
    "        pk = exp_norm(sk)\n",
    "        p = [p1,p2,p3......pk]\n",
    "        y = argmax(p) = argmax(exp_norm(s)) : returns class k\n",
    "    \n",
    "    training:\n",
    "        \n",
    "        #replace sums with vectors obv\n",
    "        loss(theta) = -1/m sum (1 to m) ( sum (1 to k) yik log(pik))\n",
    "        \n",
    "        grad(thetak) = 1/m sum(1 to m) (pik - yik).dot(xi)\n",
    "        \n",
    "        use gradient descent to find thetak for each class\n",
    "        \n",
    "        the max theta class would be the result.\n",
    "        \n",
    "    \n",
    "\"\"\"\n",
    "\n",
    "#using sklearn to implement logisticregression because it just works and its a simple freakin algorithm\n",
    "\n",
    "from sklearn import datasets\n",
    "from sklearn.linear_model import LogisticRegression\n",
    "\n",
    "import matplotlib.pyplot as plt\n",
    "import numpy as np\n",
    "\n",
    "iris = datasets.load_iris()\n",
    "\n",
    "X = iris[\"data\"][: , (2,3)] # petal length and petal width\n",
    "y = iris[\"target\"]\n",
    "\n",
    "softmax_reg = LogisticRegression(multi_class=\"multinomial\", solver=\"lbfgs\", C=10)\n",
    "softmax_reg.fit(X, y)"
   ]
  },
  {
   "cell_type": "code",
   "execution_count": 12,
   "metadata": {},
   "outputs": [
    {
     "data": {
      "text/plain": [
       "array([2])"
      ]
     },
     "execution_count": 12,
     "metadata": {},
     "output_type": "execute_result"
    }
   ],
   "source": [
    "softmax_reg.predict([[5,2]])\n"
   ]
  },
  {
   "cell_type": "code",
   "execution_count": 13,
   "metadata": {},
   "outputs": [
    {
     "data": {
      "text/plain": [
       "array([[6.38014896e-07, 5.74929995e-02, 9.42506362e-01]])"
      ]
     },
     "execution_count": 13,
     "metadata": {},
     "output_type": "execute_result"
    }
   ],
   "source": [
    "softmax_reg.predict_proba([[5,2]])"
   ]
  },
  {
   "cell_type": "code",
   "execution_count": null,
   "metadata": {},
   "outputs": [],
   "source": []
  }
 ],
 "metadata": {
  "kernelspec": {
   "display_name": "Python 3",
   "language": "python",
   "name": "python3"
  },
  "language_info": {
   "codemirror_mode": {
    "name": "ipython",
    "version": 3
   },
   "file_extension": ".py",
   "mimetype": "text/x-python",
   "name": "python",
   "nbconvert_exporter": "python",
   "pygments_lexer": "ipython3",
   "version": "3.8.5"
  }
 },
 "nbformat": 4,
 "nbformat_minor": 4
}
