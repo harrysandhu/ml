{
 "cells": [
  {
   "cell_type": "code",
   "execution_count": 3,
   "metadata": {},
   "outputs": [
    {
     "data": {
      "image/png": "[encoded data removed]",
      "text/plain": [
       "<Figure size 432x288 with 1 Axes>"
      ]
     },
     "metadata": {
      "needs_background": "light"
     },
     "output_type": "display_data"
    }
   ],
   "source": [
    "\"\"\"\n",
    "Stochastic gradient descent: picks a random instance in the\n",
    "training set at every step and computes the gradients based\n",
    "only on that single isntance.\n",
    "-Faster than batch gd.\n",
    "-Good for training huge data sets.\n",
    "-only one instance needs to be in memory in each iteration.\n",
    "\n",
    "\n",
    "Tradeoffs:\n",
    "- because the algoritm is stochastic in nature ie random\n",
    "  the cost function will bounce up and down, instead of gently decreasing\n",
    "  and decreasing only on AVERAGE.\n",
    "- Overtime it will end up very close to the minimumm but once it gets \n",
    "there it will continue to bounce around - (ball analogy),.\n",
    "\n",
    "So, once the algorithm stops the final parameters are good but not optimal.\n",
    "\n",
    "solution to this problem : keep reducing the learning rate - simulated annealing\n",
    "- Determine learning rate at each iteration\n",
    "\"\"\"\n",
    "import numpy as np\n",
    "import matplotlib.pyplot as plt\n",
    "\n",
    "cycles = 10 #number of cycles\n",
    "m = 1000 #size of the dataset\n",
    "t = 0.1 #learning rate\n",
    "\n",
    "X_pre = np.random.rand(m, 1)\n",
    "X = np.c_[np.ones((m,1)), X_pre]\n",
    "y = 4 + 3*X_pre + np.random.rand(m, 1)\n",
    "theta = np.random.randn(2, 1)\n",
    "\n",
    "costs = []\n",
    "thetas = []\n",
    "\n",
    "for cycle in range(cycles):\n",
    "    for i in range(m):\n",
    "        ri = np.random.randint(m)\n",
    "        xi = X[ri:ri+1]\n",
    "        yi = y[ri:ri+1]\n",
    "        theta = theta - (t * xi.T.dot(xi.dot(theta) - yi))\n",
    "        cost = (xi.dot(theta) - yi).T.dot((xi.dot(theta) - yi))\n",
    "        costs.append(cost[0][0])\n",
    "        thetas.append(theta[1])\n",
    "    \n",
    "    plt.scatter(thetas, costs)\n",
    "\n"
   ]
  },
  {
   "cell_type": "code",
   "execution_count": null,
   "metadata": {},
   "outputs": [],
   "source": []
  }
 ],
 "metadata": {
  "kernelspec": {
   "display_name": "Python 3",
   "language": "python",
   "name": "python3"
  },
  "language_info": {
   "codemirror_mode": {
    "name": "ipython",
    "version": 3
   },
   "file_extension": ".py",
   "mimetype": "text/x-python",
   "name": "python",
   "nbconvert_exporter": "python",
   "pygments_lexer": "ipython3",
   "version": "3.7.6"
  }
 },
 "nbformat": 4,
 "nbformat_minor": 4
}
