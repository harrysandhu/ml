{
 "cells": [
  {
   "cell_type": "code",
   "execution_count": 12,
   "metadata": {},
   "outputs": [
    {
     "name": "stdout",
     "output_type": "stream",
     "text": [
      "[[4.49492425]\n",
      " [2.90649443]]\n"
     ]
    }
   ],
   "source": [
    "\"\"\"\n",
    "Stochastic gradient descent: picks a random instance in the\n",
    "training set at every step and computes the gradients based\n",
    "only on that single isntance.\n",
    "-Faster than batch gd.\n",
    "-Good for training huge data sets.\n",
    "-only one instance needs to be in memory in each iteration.\n",
    "\n",
    "\n",
    "Tradeoffs:\n",
    "- because the algoritm is stochastic in nature ie random\n",
    "  the cost function will bounce up and down, instead of gently decreasing\n",
    "  and decreasing only on AVERAGE.\n",
    "- Overtime it will end up very close to the minimumm but once it gets \n",
    "there it will continue to bounce around - (ball analogy),.\n",
    "\n",
    "So, once the algorithm stops the final parameters are good but not optimal.\n",
    "\n",
    "solution to this problem : keep reducing the learning rate - simulated annealing\n",
    "- Determine learning rate at each iteration\n",
    "\"\"\"\n",
    "import numpy as np\n",
    "\n",
    "# shuffle data\n",
    "#pick a xi, ji\n",
    "# Repeat for epoch  (  for i = 1 --- m,  (theta = theta - (alpha) * grad(cost(theta, xi, yi))))\n",
    " \n",
    "n_epoch = 50 #hyperparameter 1\n",
    "eta = 0.1 #hyperparamter 2\n",
    "n_iter = 1000\n",
    "m = 1000\n",
    "X = np.random.rand(m, 1)\n",
    "X_b = np.c_[np.ones((m,1)), X]\n",
    "theta = np.random.randn(2,1)\n",
    "y = 4 + 3*X + np.random.rand(m,1)\n",
    "\n",
    "for epoch in range(n_epoch):\n",
    "    for i in range(m):\n",
    "        ri = np.random.randint(m) #random index - alternate to shuffling\n",
    "        xi = X_b[ri:ri+1]\n",
    "        yi = y[ri:ri+1]\n",
    "        #computing the gradient only for ith sample and moving randomly towards the minima : MUCH FASTER THAN BATCH GD\n",
    "        gradient = 2 * xi.T.dot(xi.dot(theta) - yi)\n",
    "        theta = theta - eta*gradient\n",
    "    \n",
    "print(theta)\n",
    "    \n",
    "    \n",
    "\n"
   ]
  },
  {
   "cell_type": "code",
   "execution_count": null,
   "metadata": {},
   "outputs": [],
   "source": []
  }
 ],
 "metadata": {
  "kernelspec": {
   "display_name": "Python 3",
   "language": "python",
   "name": "python3"
  },
  "language_info": {
   "codemirror_mode": {
    "name": "ipython",
    "version": 3
   },
   "file_extension": ".py",
   "mimetype": "text/x-python",
   "name": "python",
   "nbconvert_exporter": "python",
   "pygments_lexer": "ipython3",
   "version": "3.7.6"
  }
 },
 "nbformat": 4,
 "nbformat_minor": 4
}
