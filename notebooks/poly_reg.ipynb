{
 "cells": [
  {
   "cell_type": "code",
   "execution_count": 71,
   "metadata": {},
   "outputs": [
    {
     "name": "stdout",
     "output_type": "stream",
     "text": [
      "(100, 1)\n",
      "(100, 1)\n"
     ]
    },
    {
     "data": {
      "image/png": "[encoded data removed]",
      "text/plain": [
       "<Figure size 432x288 with 1 Axes>"
      ]
     },
     "metadata": {
      "needs_background": "light"
     },
     "output_type": "display_data"
    }
   ],
   "source": [
    "\"\"\"\n",
    "    polynomaial regression - when the data is not a straight line\n",
    "    -Add powers of each feature as new features and train a linear model on this extended set of features\n",
    "\"\"\"\n",
    "\n",
    "import numpy as np\n",
    "import matplotlib.pyplot as plt\n",
    "\n",
    "\n",
    "#only one feature here\n",
    "m = 100\n",
    "X = 6 * np.random.rand(m,1) - 3  # sample data\n",
    "y = 0.5*X**2 + X + 2+ np.random.randn(m, 1)  #corresponding outputs\n",
    "\n",
    "plt.scatter(X, y)\n",
    "print(X.shape)\n",
    "print(y.shape)\n"
   ]
  },
  {
   "cell_type": "code",
   "execution_count": 79,
   "metadata": {},
   "outputs": [],
   "source": [
    "# add x0 to x\n",
    "X_b = np.c_[np.ones((100,1)), X]\n",
    "# new \"psuedofeature\"\n",
    "Xnf = np.array(X**2)\n",
    "X_f = np.c_[X_b, Xnf, np.array(X**3), np.array(X**4), np.array(X**5), np.array(X**5), \n",
    "            np.array(X**6), np.array(X**7), np.array(X**8), np.array(X**9), \n",
    "            np.array(X**10), np.array(X**11),\n",
    "            np.array(X**12), np.array(X**13), np.array(X**14), np.array(X**15)]"
   ]
  },
  {
   "cell_type": "code",
   "execution_count": 80,
   "metadata": {},
   "outputs": [],
   "source": [
    "theta = np.linalg.inv(X_f.T.dot(X_f)).dot(X_f.T).dot(y)"
   ]
  },
  {
   "cell_type": "code",
   "execution_count": 81,
   "metadata": {},
   "outputs": [
    {
     "name": "stdout",
     "output_type": "stream",
     "text": [
      "(100, 17)\n",
      "[[-7.05351495e+07]\n",
      " [-9.59514652e+07]\n",
      " [ 1.42464786e+07]\n",
      " [ 4.35611395e+07]\n",
      " [-1.13352646e+06]\n",
      " [ 3.27772259e+11]\n",
      " [-3.27776822e+11]\n",
      " [-3.07911527e+00]\n",
      " [ 6.28732157e-01]\n",
      " [ 9.50409678e-01]\n",
      " [-2.27465802e-01]\n",
      " [-1.52697124e-01]\n",
      " [ 4.31280385e-02]\n",
      " [ 1.23216210e-02]\n",
      " [-3.98560475e-03]\n",
      " [-3.94583932e-04]\n",
      " [ 1.41991640e-04]]\n"
     ]
    },
    {
     "data": {
      "image/png": "[encoded data removed]",
      "text/plain": [
       "<Figure size 432x288 with 1 Axes>"
      ]
     },
     "metadata": {
      "needs_background": "light"
     },
     "output_type": "display_data"
    }
   ],
   "source": [
    "plt.scatter(X, y)\n",
    "print(X_f.shape)\n",
    "ys = X_f.dot(theta)\n",
    "\n",
    "plt.scatter(X, ys)\n",
    "\n",
    "print(theta)\n"
   ]
  },
  {
   "cell_type": "code",
   "execution_count": null,
   "metadata": {},
   "outputs": [],
   "source": []
  },
  {
   "cell_type": "code",
   "execution_count": null,
   "metadata": {},
   "outputs": [],
   "source": []
  },
  {
   "cell_type": "code",
   "execution_count": null,
   "metadata": {},
   "outputs": [],
   "source": []
  },
  {
   "cell_type": "code",
   "execution_count": null,
   "metadata": {},
   "outputs": [],
   "source": []
  }
 ],
 "metadata": {
  "kernelspec": {
   "display_name": "Python 3",
   "language": "python",
   "name": "python3"
  },
  "language_info": {
   "codemirror_mode": {
    "name": "ipython",
    "version": 3
   },
   "file_extension": ".py",
   "mimetype": "text/x-python",
   "name": "python",
   "nbconvert_exporter": "python",
   "pygments_lexer": "ipython3",
   "version": "3.7.6"
  }
 },
 "nbformat": 4,
 "nbformat_minor": 4
}
