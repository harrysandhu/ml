{
 "cells": [
  {
   "cell_type": "code",
   "execution_count": 1,
   "metadata": {},
   "outputs": [
    {
     "name": "stdout",
     "output_type": "stream",
     "text": [
      "Populating the interactive namespace from numpy and matplotlib\n"
     ]
    }
   ],
   "source": [
    "%pylab inline"
   ]
  },
  {
   "cell_type": "markdown",
   "metadata": {},
   "source": [
    "### Parametric approach\n",
    "\n",
    "* matrix (image) ====>  f(x, W) - Paramters(weights) =====> class scores\n",
    "\n",
    "1. Linear classifier\n",
    " \n",
    "```{Python}\n",
    " f(x, W)  = Wx + b\n",
    " (10x1)    (10x3072).dot(3072*1)    + (10x1)\n",
    "```\n",
    "\n",
    "- what does the linear classfier do?\n",
    "    * Each row in W is a \"template\" that maximizes the dot product of the corresponding class.\n",
    "        * the row with the maximum value will be the resulting class.\n",
    "---\n",
    "- A heuristic\n",
    "    - Why cant we train this is constant time by choosing the template to be just the mean of all the pixels. (Andrej's response)\n",
    "        - It would be a good heuristic to set initially and can speed up training. \n",
    "    \n",
    "---\n",
    "\n",
    "- Unbalanced dataset.\n",
    "    - if a lots of cat examples, the cat bias would be higher. \n",
    "\n",
    "---\n",
    "\n",
    "- What would be a very hard set of classes for a linear classifier to distinguish?\n",
    "    - Intersecting sets.\n",
    "        * what would the images look like?\n",
    "            - negative colored \"object/airplane\". Because the weights are all negative and the linear classifier would hate that airplane. \n",
    "    \n",
    "    - Greyscale would work terribly.\n",
    "    - Different textures wont work.\n",
    "---\n",
    "\n",
    "- Dogs in the center vs Dogs on the right? Problem or not a problem?\n",
    "    - No problem. Affine transformation. \n",
    "    \n",
    "\n",
    "---\n",
    "\n",
    "- Loss function\n",
    "    - quantify the idea of good or bad.\n",
    "    "
   ]
  },
  {
   "cell_type": "markdown",
   "metadata": {},
   "source": [
    "### Multiclass SVM loss\n",
    "\n",
    "Suppose 3 training examples, 3 classes. with some W the scores f(x, W) are:\n",
    "\n",
    "L_i = sum_{j!=yi} max(0, sj - syi + 1)\n",
    "\n",
    "```{code}\n",
    "GROUND   CAT          CAR           FROG\n",
    "        [0=0]         [**]         [-_-]\n",
    " cat     3.2          1.3           2.2\n",
    " \n",
    " car     5.1          4.9           2.5\n",
    " \n",
    " frog    -1.7         2.0          -3.1\n",
    "\n",
    " ---\n",
    "LOSS     2.9           0            10.9\n",
    "\n",
    "\n",
    " ```\n",
    " ---\n",
    " \n",
    "#### Loss function =  L = avg over all training data (L_i)\n",
    "\n",
    "---\n",
    "\n",
    "- Usually at initialization W are small numbers, so all s ~= 0.\n",
    "        - What is the loss?\n",
    "        * num classes - 1\n",
    "\n"
   ]
  },
  {
   "cell_type": "code",
   "execution_count": 5,
   "metadata": {},
   "outputs": [],
   "source": [
    "\"\"\"L_i vectorized\"\"\"\n",
    "def L_i_vectorized(x, y, W):\n",
    "    scores = W.dot(x)\n",
    "    margins = np.maximum(0, scores - scores[y] + 1)\n",
    "    margins[y] = 0\n",
    "    loss_i = np.sum(margins)\n",
    "    return loss_i"
   ]
  },
  {
   "cell_type": "markdown",
   "metadata": {},
   "source": [
    "### Bug with the loss function\n",
    "\n",
    "L = mean (Li)\n",
    "\n",
    "- what if we scale W by some constant alpha.\n",
    "    - we just make the differences larger.\n",
    "   * BUT:\n",
    "    > <i>WE CAN GET 0 LOSS BY 2 SIMILAR Ws. W or alpha*W.</i>\n",
    " ---\n",
    " \n",
    " - What is a nice W?\n",
    "\n",
    "\n"
   ]
  },
  {
   "cell_type": "markdown",
   "metadata": {},
   "source": [
    "### Regularization\n",
    "L = mean(Li) +  <b>(\\lambda) <i>R(W)</i></b>\n",
    " - R -> Regularization function\n",
    " - /lambda -> regularization strength\n",
    " - Measures the niceness of the W.\n",
    " - We are adding a \"fighting term\" that tries to make the W more general that training data.\n",
    " * mean(Li) wants to fit the training data.\n",
    " * \\lambda*R(W) wants the W to look a particular way.\n",
    " - specificity vs generality.\n",
    " \n",
    "    - Commonly used:\n",
    "        - L2 Regularization R(W) = sumk suml W^2 k,l  (element wise square sum)\n",
    "        - L1 Reg R(W) = sumk suml W k,l (element wise sum)\n",
    "        - max norm\n",
    "        - dropout\n",
    "        "
   ]
  },
  {
   "cell_type": "markdown",
   "metadata": {},
   "source": [
    "\n",
    "### L2 reg : Motivation\n",
    "\n",
    "```{python}\n",
    "x = [1, 1, 1, 1]\n",
    "\n",
    "w1 = [1,0,0,0]\n",
    "w2 = [.25, .25, .25, .25]\n",
    "\n",
    "w1.T.dot(x) = w2.T.dot(x) = 1\n",
    "```\n",
    "\n",
    "- which one is better? which one does regularization prefer?\n",
    "    - w2.\n",
    "    - because it takes more elements of x into account.\n",
    "    - L2 reg wants to use all of the dimensions to achieve the result.\n",
    "    - its more general. "
   ]
  },
  {
   "cell_type": "markdown",
   "metadata": {},
   "source": [
    "## Softmax (multinomial logistic regression)\n",
    "\n",
    "- generalization of logistic regression in multiple dimensions.\n",
    "\n",
    "$$ Li = -log(e^s/(sum_{j}(e^j) $$\n",
    "\n",
    "- when scores are nearly zero, (W nearly zero.)\n",
    "    - Li = -log(1/(number of classes)"
   ]
  },
  {
   "cell_type": "markdown",
   "metadata": {},
   "source": [
    "## Softmax vs SVM\n",
    "  \n",
    "- SVM has a added robustness -> Li = sum( max (0, sj - syi + 1))\n",
    "- softmax is sensitive to data changes\n"
   ]
  },
  {
   "cell_type": "code",
   "execution_count": null,
   "metadata": {},
   "outputs": [],
   "source": []
  },
  {
   "cell_type": "code",
   "execution_count": null,
   "metadata": {},
   "outputs": [],
   "source": []
  },
  {
   "cell_type": "code",
   "execution_count": null,
   "metadata": {},
   "outputs": [],
   "source": []
  },
  {
   "cell_type": "code",
   "execution_count": null,
   "metadata": {},
   "outputs": [],
   "source": []
  },
  {
   "cell_type": "code",
   "execution_count": null,
   "metadata": {},
   "outputs": [],
   "source": []
  },
  {
   "cell_type": "code",
   "execution_count": null,
   "metadata": {},
   "outputs": [],
   "source": []
  },
  {
   "cell_type": "code",
   "execution_count": null,
   "metadata": {},
   "outputs": [],
   "source": []
  }
 ],
 "metadata": {
  "kernelspec": {
   "display_name": "Python 3",
   "language": "python",
   "name": "python3"
  },
  "language_info": {
   "codemirror_mode": {
    "name": "ipython",
    "version": 3
   },
   "file_extension": ".py",
   "mimetype": "text/x-python",
   "name": "python",
   "nbconvert_exporter": "python",
   "pygments_lexer": "ipython3",
   "version": "3.8.6"
  }
 },
 "nbformat": 4,
 "nbformat_minor": 4
}
