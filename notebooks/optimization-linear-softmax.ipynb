{
 "cells": [
  {
   "cell_type": "code",
   "execution_count": 1,
   "metadata": {},
   "outputs": [
    {
     "name": "stdout",
     "output_type": "stream",
     "text": [
      "Populating the interactive namespace from numpy and matplotlib\n"
     ]
    }
   ],
   "source": [
    "%pylab inline"
   ]
  },
  {
   "cell_type": "markdown",
   "metadata": {},
   "source": [
    "### Parametric approach\n",
    "\n",
    "* matrix (image) ====>  f(x, W) - Paramters(weights) =====> class scores\n",
    "\n",
    "1. Linear classifier\n",
    " \n",
    "```{Python}\n",
    " f(x, W)  = Wx + b\n",
    " (10x1)    (10x3072).dot(3072*1)    + (10x1)\n",
    "```\n",
    "\n",
    "- what does the linear classfier do?\n",
    "    * Each row in W is a \"template\" that maximizes the dot product of the corresponding class.\n",
    "        * the row with the maximum value will be the resulting class.\n",
    "---\n",
    "- A heuristic\n",
    "    - Why cant we train this is constant time by choosing the template to be just the mean of all the pixels. (Andrej's response)\n",
    "        - It would be a good heuristic to set initially and can speed up training. \n",
    "    \n",
    "---\n",
    "\n",
    "- Unbalanced dataset.\n",
    "    - if a lots of cat examples, the cat bias would be higher. \n",
    "\n",
    "---\n",
    "\n",
    "- What would be a very hard set of classes for a linear classifier to distinguish?\n",
    "    - Intersecting sets.\n",
    "        * what would the images look like?\n",
    "            - negative colored \"object/airplane\". Because the weights are all negative and the linear classifier would hate that airplane. \n",
    "    \n",
    "    - Greyscale would work terribly.\n",
    "    - Different textures wont work.\n",
    "---\n",
    "\n",
    "- Dogs in the center vs Dogs on the right? Problem or not a problem?\n",
    "    - No problem. Affine transformation. \n",
    "    \n",
    "\n",
    "---\n",
    "\n",
    "- Loss function\n",
    "    - quantify the idea of good or bad.\n",
    "    "
   ]
  },
  {
   "cell_type": "markdown",
   "metadata": {},
   "source": []
  },
  {
   "cell_type": "code",
   "execution_count": 3,
   "metadata": {},
   "outputs": [],
   "source": []
  },
  {
   "cell_type": "code",
   "execution_count": null,
   "metadata": {},
   "outputs": [],
   "source": []
  }
 ],
 "metadata": {
  "kernelspec": {
   "display_name": "Python 3",
   "language": "python",
   "name": "python3"
  },
  "language_info": {
   "codemirror_mode": {
    "name": "ipython",
    "version": 3
   },
   "file_extension": ".py",
   "mimetype": "text/x-python",
   "name": "python",
   "nbconvert_exporter": "python",
   "pygments_lexer": "ipython3",
   "version": "3.8.6"
  }
 },
 "nbformat": 4,
 "nbformat_minor": 4
}
