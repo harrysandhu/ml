{
 "cells": [
  {
   "cell_type": "code",
   "execution_count": 2,
   "metadata": {},
   "outputs": [],
   "source": [
    "import numpy as np\n",
    "import pandas as pd"
   ]
  },
  {
   "cell_type": "code",
   "execution_count": 62,
   "metadata": {},
   "outputs": [
    {
     "data": {
      "text/html": [
       "<div>\n",
       "<style scoped>\n",
       "    .dataframe tbody tr th:only-of-type {\n",
       "        vertical-align: middle;\n",
       "    }\n",
       "\n",
       "    .dataframe tbody tr th {\n",
       "        vertical-align: top;\n",
       "    }\n",
       "\n",
       "    .dataframe thead th {\n",
       "        text-align: right;\n",
       "    }\n",
       "</style>\n",
       "<table border=\"1\" class=\"dataframe\">\n",
       "  <thead>\n",
       "    <tr style=\"text-align: right;\">\n",
       "      <th></th>\n",
       "      <th>email</th>\n",
       "      <th>label</th>\n",
       "    </tr>\n",
       "  </thead>\n",
       "  <tbody>\n",
       "    <tr>\n",
       "      <th>2</th>\n",
       "      <td>man threatens explosion in moscow thursday aug...</td>\n",
       "      <td>0</td>\n",
       "    </tr>\n",
       "  </tbody>\n",
       "</table>\n",
       "</div>"
      ],
      "text/plain": [
       "                                               email  label\n",
       "2  man threatens explosion in moscow thursday aug...      0"
      ]
     },
     "execution_count": 62,
     "metadata": {},
     "output_type": "execute_result"
    }
   ],
   "source": [
    "ed = pd.read_csv(\"../data/spam_or_not_spam.csv\")\n",
    "ed.iloc[[2]]\n",
    "def parse_data(self, data):\n",
    "        words = {}\n",
    "        for e in range(len(data['email'])):\n",
    "            e_ar = []\n",
    "            if isinstance(data['email'][e], str):\n",
    "                e_ar = data['email'][e].split()\n",
    "            for w in e_ar:\n",
    "                if w in words:\n",
    "                    words[w] = words[w] + [data['label'][e]]\n",
    "                else:\n",
    "                    words[w] = [] + [data['label'][e]]\n",
    "        \n",
    "        return words\n"
   ]
  },
  {
   "cell_type": "code",
   "execution_count": 66,
   "metadata": {},
   "outputs": [],
   "source": [
    "\n",
    "\n",
    "class NaiveBayes:\n",
    "    def __init__(self, words, MAX_WORDS=50000):\n",
    "        self.words = words\n",
    "        self.n = 0\n",
    "        self.max_words = MAX_WORDS\n",
    "        self.px_y1 = {}\n",
    "        self.px_y0 = {}\n",
    "        self.y1_total = 0\n",
    "        self.y0_total = 0\n",
    "        self.p_y1 = 0\n",
    "        self.p_y0 = 0\n",
    "        \n",
    "        \n",
    "    def fit(self, emails):\n",
    "        self.n = len(self.words)\n",
    "        self.cal_p_y(emails)\n",
    "        self.calc_probs(words)\n",
    "    \n",
    "    \n",
    "    def predict(self, email):\n",
    "        words = self.parse_email(email)\n",
    "        p_x_y1 = self.p_y1\n",
    "        p_x_y0 = self.p_y0\n",
    "        for w in words:\n",
    "            if w in self.px_y1:\n",
    "                p_x_y1 *= self.px_y1[w]\n",
    "            else:\n",
    "                p_x_y = 0\n",
    "            if w in self.px_y0:\n",
    "                p_x_y0 *= self.px_y1[w]\n",
    "            else:\n",
    "                p_x_y0 = 0\n",
    "        \n",
    "        # laplace smoothing\n",
    "\n",
    "        p_x_y1 += 1\n",
    "        p_x_y0 += 1\n",
    "        \n",
    "        p_y1 = p_x_y1 / (p_x_y1 + p_x_y0)\n",
    "        p_y0 = p_x_y0 / (p_x_y1 + p_x_y0)    \n",
    "        \n",
    "        return 1 if p_y1 > p_y0 else 0\n",
    "    \n",
    "            \n",
    "        \n",
    "    \n",
    "    def cal_p_y(self, emails):\n",
    "        for l in emails['label']:\n",
    "            if l == 1:\n",
    "                self.y1_total += 1\n",
    "            else:\n",
    "                self.y0_total += 1\n",
    "        self.p_y1 = self.y1_total / self.n\n",
    "        self.p_y0 = self.y0_total / self.n\n",
    "        \n",
    "    def calc_probs(self, words):\n",
    "        for w in self.words:\n",
    "            self.px_y1[w] = 0\n",
    "            self.px_y0[w] = 0\n",
    "            for label in self.words[w]:\n",
    "                if label == 1:\n",
    "                    self.px_y1[w] +=1\n",
    "                else:\n",
    "                    self.px_y0[w] += 1\n",
    "            \n",
    "            self.px_y1[w] /= self.y1_total\n",
    "            self.px_y0[w] /= self.y0_total\n",
    "            \n",
    "    def parse_email(self, email):\n",
    "        x = []\n",
    "        for w in email.split():\n",
    "            if w not in x:\n",
    "                x.append(w)\n",
    "        return x\n",
    "            \n",
    "    \n",
    "\n",
    "    \n"
   ]
  },
  {
   "cell_type": "code",
   "execution_count": 67,
   "metadata": {},
   "outputs": [],
   "source": [
    "nb_classifier = NaiveBayes()\n",
    "nb_classifier.fit(ed)"
   ]
  },
  {
   "cell_type": "code",
   "execution_count": 68,
   "metadata": {},
   "outputs": [
    {
     "ename": "TypeError",
     "evalue": "'NoneType' object is not iterable",
     "output_type": "error",
     "traceback": [
      "\u001b[0;31m---------------------------------------------------------------------------\u001b[0m",
      "\u001b[0;31mTypeError\u001b[0m                                 Traceback (most recent call last)",
      "\u001b[0;32m<ipython-input-68-210c27160b7c>\u001b[0m in \u001b[0;36m<module>\u001b[0;34m\u001b[0m\n\u001b[0;32m----> 1\u001b[0;31m \u001b[0mnb_classifier\u001b[0m\u001b[0;34m.\u001b[0m\u001b[0mpredict\u001b[0m\u001b[0;34m(\u001b[0m\u001b[0med\u001b[0m\u001b[0;34m.\u001b[0m\u001b[0miloc\u001b[0m\u001b[0;34m[\u001b[0m\u001b[0;36m2\u001b[0m\u001b[0;34m]\u001b[0m\u001b[0;34m[\u001b[0m\u001b[0;34m'email'\u001b[0m\u001b[0;34m]\u001b[0m\u001b[0;34m)\u001b[0m\u001b[0;34m\u001b[0m\u001b[0;34m\u001b[0m\u001b[0m\n\u001b[0m",
      "\u001b[0;32m<ipython-input-66-aed0701ba107>\u001b[0m in \u001b[0;36mpredict\u001b[0;34m(self, email)\u001b[0m\n\u001b[1;32m     27\u001b[0m         \u001b[0mp_x_y1\u001b[0m \u001b[0;34m=\u001b[0m \u001b[0mself\u001b[0m\u001b[0;34m.\u001b[0m\u001b[0mp_y1\u001b[0m\u001b[0;34m\u001b[0m\u001b[0;34m\u001b[0m\u001b[0m\n\u001b[1;32m     28\u001b[0m         \u001b[0mp_x_y0\u001b[0m \u001b[0;34m=\u001b[0m \u001b[0mself\u001b[0m\u001b[0;34m.\u001b[0m\u001b[0mp_y0\u001b[0m\u001b[0;34m\u001b[0m\u001b[0;34m\u001b[0m\u001b[0m\n\u001b[0;32m---> 29\u001b[0;31m         \u001b[0;32mfor\u001b[0m \u001b[0mw\u001b[0m \u001b[0;32min\u001b[0m \u001b[0mself\u001b[0m\u001b[0;34m.\u001b[0m\u001b[0mwords\u001b[0m\u001b[0;34m:\u001b[0m\u001b[0;34m\u001b[0m\u001b[0;34m\u001b[0m\u001b[0m\n\u001b[0m\u001b[1;32m     30\u001b[0m             \u001b[0;32mif\u001b[0m \u001b[0mw\u001b[0m \u001b[0;32min\u001b[0m \u001b[0mself\u001b[0m\u001b[0;34m.\u001b[0m\u001b[0mpx_y1\u001b[0m\u001b[0;34m:\u001b[0m\u001b[0;34m\u001b[0m\u001b[0;34m\u001b[0m\u001b[0m\n\u001b[1;32m     31\u001b[0m                 \u001b[0mp_x_y1\u001b[0m \u001b[0;34m*=\u001b[0m \u001b[0mself\u001b[0m\u001b[0;34m.\u001b[0m\u001b[0mpx_y1\u001b[0m\u001b[0;34m[\u001b[0m\u001b[0mw\u001b[0m\u001b[0;34m]\u001b[0m\u001b[0;34m\u001b[0m\u001b[0;34m\u001b[0m\u001b[0m\n",
      "\u001b[0;31mTypeError\u001b[0m: 'NoneType' object is not iterable"
     ]
    }
   ],
   "source": [
    "nb_classifier.predict(ed.iloc[2]['email'])"
   ]
  },
  {
   "cell_type": "code",
   "execution_count": null,
   "metadata": {},
   "outputs": [],
   "source": []
  },
  {
   "cell_type": "code",
   "execution_count": null,
   "metadata": {},
   "outputs": [],
   "source": []
  }
 ],
 "metadata": {
  "kernelspec": {
   "display_name": "Python 3",
   "language": "python",
   "name": "python3"
  },
  "language_info": {
   "codemirror_mode": {
    "name": "ipython",
    "version": 3
   },
   "file_extension": ".py",
   "mimetype": "text/x-python",
   "name": "python",
   "nbconvert_exporter": "python",
   "pygments_lexer": "ipython3",
   "version": "3.8.5"
  }
 },
 "nbformat": 4,
 "nbformat_minor": 4
}
