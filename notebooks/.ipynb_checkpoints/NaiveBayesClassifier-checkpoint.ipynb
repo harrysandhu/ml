{
 "cells": [
  {
   "cell_type": "code",
   "execution_count": 2,
   "metadata": {},
   "outputs": [],
   "source": [
    "import numpy as np\n",
    "import pandas as pd"
   ]
  },
  {
   "cell_type": "code",
   "execution_count": 254,
   "metadata": {},
   "outputs": [],
   "source": [
    "ed = pd.read_csv(\"../data/spam_or_not_spam.csv\")\n",
    "ed.iloc[[2]]\n",
    "def parse_data(data):\n",
    "        words = {}\n",
    "        for e in range(len(data['email'])):\n",
    "            e_ar = []\n",
    "            if isinstance(data['email'][e], str):\n",
    "                e_ar = data['email'][e].split()\n",
    "            for w in e_ar:\n",
    "                if w in words:\n",
    "                    words[w] = words[w] + [data['label'][e]]\n",
    "                else:\n",
    "                    words[w] = [] + [data['label'][e]]\n",
    "        \n",
    "        return words\n",
    "\n",
    "words = parse_data(ed)\n"
   ]
  },
  {
   "cell_type": "code",
   "execution_count": 281,
   "metadata": {},
   "outputs": [],
   "source": [
    "\n",
    "\n",
    "class NaiveBayes:\n",
    "    def __init__(self, MAX_WORDS=50000):\n",
    "        self.words = {}\n",
    "        self.n = 0\n",
    "        self.max_words = MAX_WORDS\n",
    "        self.px_y1 = {}\n",
    "        self.px_y0 = {}\n",
    "        self.y1_total = 0\n",
    "        self.y0_total = 0\n",
    "        self.p_y1 = 0\n",
    "        self.p_y0 = 0\n",
    "        \n",
    "        \n",
    "    def fit(self, emails, words):\n",
    "        self.words = words\n",
    "        self.n = len(self.words)\n",
    "        self.cal_p_y(emails)\n",
    "        self.calc_probs(words)\n",
    "    \n",
    "    \n",
    "    \n",
    "    def predict(self, email):\n",
    "        words = self.parse_email(email)\n",
    "        p_x_y1 = self.p_y1\n",
    "        p_x_y0 = self.p_y0\n",
    "        for w in words:\n",
    "            if w in self.px_y1:\n",
    "                p_x_y1 *= self.px_y1[w]\n",
    "            if w in self.px_y0:\n",
    "                p_x_y0 *= self.px_y0[w]\n",
    "         \n",
    "        \n",
    "        if p_x_y1 == 0:\n",
    "            p_x_y1 +=1\n",
    "        if p_x_y0 == 0:\n",
    "            p_x_y0 += 1\n",
    "    \n",
    "            \n",
    "        p_y1 = p_x_y1 / (p_x_y1 + p_x_y0)\n",
    "        p_y0 = p_x_y0 / (p_x_y1 + p_x_y0)    \n",
    "        \n",
    "\n",
    "        return 1 if p_y1 >= p_y0 else 0\n",
    "    \n",
    "            \n",
    "        \n",
    "    \n",
    "    def cal_p_y(self, emails):\n",
    "        for l in emails['label']:\n",
    "            if l == 1:\n",
    "                self.y1_total += 1\n",
    "            else:\n",
    "                self.y0_total += 1\n",
    "        \n",
    "\n",
    "        self.p_y1 = self.y1_total / self.n\n",
    "        self.p_y0 = 1 - self.p_y1\n",
    "        print(self.p_y1, self.p_y0)\n",
    "        \n",
    "        \n",
    "    def calc_probs(self, words):\n",
    "        for w in self.words:\n",
    "            for label in self.words[w]:\n",
    "                if label == 1:\n",
    "                    if w not in self.px_y1:\n",
    "                        self.px_y1[w] = 0\n",
    "                    self.px_y1[w] +=1\n",
    "                else:\n",
    "                    if w not in self.px_y0:\n",
    "                        self.px_y0[w] = 0\n",
    "                    self.px_y0[w] +=1\n",
    "        \n",
    "            if w not in self.px_y1:\n",
    "                self.px_y1[w] = 0\n",
    "                self.px_y1[w] += 1\n",
    "\n",
    "            if w not in self.px_y0:\n",
    "                self.px_y0[w] = 0\n",
    "                self.px_y0[w] += 1\n",
    "        \n",
    "            self.px_y1[w] /= (self.y1_total + 2)\n",
    "            self.px_y0[w] /= (self.y0_total + 2)\n",
    "            \n",
    "        \n",
    "        \n",
    "    def parse_email(self, email):\n",
    "        x = []\n",
    "        if isinstance(email, str):\n",
    "            for w in email.split():\n",
    "                if w not in x:\n",
    "                    x.append(w)\n",
    "        return x\n",
    "            \n",
    "    \n",
    "\n",
    "    \n"
   ]
  },
  {
   "cell_type": "code",
   "execution_count": 282,
   "metadata": {},
   "outputs": [
    {
     "name": "stdout",
     "output_type": "stream",
     "text": [
      "0.01461048448366548 0.9853895155163345\n"
     ]
    }
   ],
   "source": [
    "nb_classifier = NaiveBayes()\n",
    "nb_classifier.fit(ed, words)"
   ]
  },
  {
   "cell_type": "code",
   "execution_count": 285,
   "metadata": {},
   "outputs": [
    {
     "name": "stdout",
     "output_type": "stream",
     "text": [
      "2193\n"
     ]
    }
   ],
   "source": [
    "c = 0\n",
    "for i in range(2999):\n",
    "    if nb_classifier.predict(ed.iloc[i]['email']) == ed.iloc[i]['label']:\n",
    "        c += 1\n",
    "\n",
    "print(c)"
   ]
  }
 ],
 "metadata": {
  "kernelspec": {
   "display_name": "Python 3",
   "language": "python",
   "name": "python3"
  },
  "language_info": {
   "codemirror_mode": {
    "name": "ipython",
    "version": 3
   },
   "file_extension": ".py",
   "mimetype": "text/x-python",
   "name": "python",
   "nbconvert_exporter": "python",
   "pygments_lexer": "ipython3",
   "version": "3.8.5"
  }
 },
 "nbformat": 4,
 "nbformat_minor": 4
}
