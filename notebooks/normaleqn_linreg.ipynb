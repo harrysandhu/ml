{
 "cells": [
  {
   "cell_type": "code",
   "execution_count": 1,
   "metadata": {},
   "outputs": [
    {
     "data": {
      "text/plain": [
       "'\\n    Linear Regression\\n    X -> instances x features\\n    O(theta) -> paramters - some weights associated with each feature\\n    y = X* TRANSPOSE(O)\\n\\n    y = X0*O0 + X1*O1 + X2*O2 .......... Xn*On\\n    so we need to find the paramter vector - theta vector \\n    How:\\n    MINIMIZE - COST FUNCTION(X) = 1/M SUM (( XiO - yi)^2)  \\n    differentiate this eqn wrt O and you get\\n    \\n    O = INV(T(X)X)T(X)y\\n    \\n'"
      ]
     },
     "execution_count": 1,
     "metadata": {},
     "output_type": "execute_result"
    }
   ],
   "source": [
    "\"\"\"\n",
    "    Linear Regression\n",
    "    X -> instances x features\n",
    "    O(theta) -> paramters - some weights associated with each feature\n",
    "    y = X* TRANSPOSE(O)\n",
    "\n",
    "    y = X0*O0 + X1*O1 + X2*O2 .......... Xn*On\n",
    "    so we need to find the paramter vector - theta vector \n",
    "    How:\n",
    "    MINIMIZE - COST FUNCTION(X) = 1/M SUM (( XiO - yi)^2)  \n",
    "    differentiate this eqn wrt O and you get\n",
    "    \n",
    "    O = INV(T(X)X)T(X)y\n",
    "    \n",
    "\"\"\""
   ]
  },
  {
   "cell_type": "code",
   "execution_count": 17,
   "metadata": {},
   "outputs": [
    {
     "data": {
      "text/plain": [
       "<matplotlib.collections.PathCollection at 0x119e84b50>"
      ]
     },
     "execution_count": 17,
     "metadata": {},
     "output_type": "execute_result"
    },
    {
     "data": {
      "image/png": "[encoded data removed]",
      "text/plain": [
       "<Figure size 432x288 with 1 Axes>"
      ]
     },
     "metadata": {
      "needs_background": "light"
     },
     "output_type": "display_data"
    }
   ],
   "source": [
    "#generate random data\n",
    "import numpy as np\n",
    "import matplotlib.pyplot as plt\n",
    "\n",
    "X = 2*np.random.rand(100, 1)\n",
    "y = 4 + 3*X + np.random.rand(100,1)\n",
    "plt.scatter(X, y)"
   ]
  },
  {
   "cell_type": "code",
   "execution_count": 29,
   "metadata": {},
   "outputs": [],
   "source": [
    "X_b = np.c_[np.ones((100,1)), X] #add x0 = 1 to each instance\n",
    "theta_best = np.linalg.inv(X_b.T.dot(X_b)).dot(X_b.T).dot(y)"
   ]
  },
  {
   "cell_type": "code",
   "execution_count": 30,
   "metadata": {},
   "outputs": [
    {
     "name": "stdout",
     "output_type": "stream",
     "text": [
      "[[4.45157686]\n",
      " [3.06668359]]\n"
     ]
    }
   ],
   "source": [
    "print(theta_best)"
   ]
  },
  {
   "cell_type": "code",
   "execution_count": null,
   "metadata": {},
   "outputs": [],
   "source": []
  }
 ],
 "metadata": {
  "kernelspec": {
   "display_name": "Python 3",
   "language": "python",
   "name": "python3"
  },
  "language_info": {
   "codemirror_mode": {
    "name": "ipython",
    "version": 3
   },
   "file_extension": ".py",
   "mimetype": "text/x-python",
   "name": "python",
   "nbconvert_exporter": "python",
   "pygments_lexer": "ipython3",
   "version": "3.7.6"
  }
 },
 "nbformat": 4,
 "nbformat_minor": 4
}
