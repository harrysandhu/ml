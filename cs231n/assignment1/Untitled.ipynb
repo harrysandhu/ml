{
 "cells": [
  {
   "cell_type": "code",
   "execution_count": 6,
   "id": "timely-tiger",
   "metadata": {},
   "outputs": [],
   "source": [
    "import numpy as np"
   ]
  },
  {
   "cell_type": "code",
   "execution_count": 7,
   "id": "seventh-viking",
   "metadata": {},
   "outputs": [],
   "source": [
    "N, C = 50, 10\n",
    "x, y = np.arange(N), np.arange(C).reshape(-1,1)"
   ]
  },
  {
   "cell_type": "code",
   "execution_count": 8,
   "id": "turned-appraisal",
   "metadata": {},
   "outputs": [],
   "source": [
    "c = 0\n",
    "for i in x:\n",
    "    for j in y:\n",
    "        c += 1"
   ]
  },
  {
   "cell_type": "code",
   "execution_count": 9,
   "id": "dated-siemens",
   "metadata": {},
   "outputs": [
    {
     "data": {
      "text/plain": [
       "500"
      ]
     },
     "execution_count": 9,
     "metadata": {},
     "output_type": "execute_result"
    }
   ],
   "source": [
    "c"
   ]
  },
  {
   "cell_type": "code",
   "execution_count": 10,
   "id": "saved-flour",
   "metadata": {},
   "outputs": [],
   "source": [
    "fx = lambda x: np.maximum(0, x)"
   ]
  },
  {
   "cell_type": "code",
   "execution_count": 11,
   "id": "responsible-bangladesh",
   "metadata": {},
   "outputs": [
    {
     "data": {
      "text/plain": [
       "4"
      ]
     },
     "execution_count": 11,
     "metadata": {},
     "output_type": "execute_result"
    }
   ],
   "source": [
    "fx(4)\n"
   ]
  },
  {
   "cell_type": "code",
   "execution_count": 12,
   "id": "normal-experiment",
   "metadata": {},
   "outputs": [],
   "source": [
    "ind = lambda x: np.uint(x > 0)"
   ]
  },
  {
   "cell_type": "code",
   "execution_count": 14,
   "id": "north-socket",
   "metadata": {},
   "outputs": [
    {
     "data": {
      "text/plain": [
       "1"
      ]
     },
     "execution_count": 14,
     "metadata": {},
     "output_type": "execute_result"
    }
   ],
   "source": [
    "ind(2)"
   ]
  },
  {
   "cell_type": "code",
   "execution_count": 16,
   "id": "adjacent-prompt",
   "metadata": {},
   "outputs": [
    {
     "data": {
      "text/plain": [
       "array([ 0.29231158,  0.43039461,  0.60339994,  0.4306149 , -0.89244969,\n",
       "        1.06742343,  1.49203786,  0.11749253, -0.07058623,  0.62040499])"
      ]
     },
     "execution_count": 16,
     "metadata": {},
     "output_type": "execute_result"
    }
   ],
   "source": [
    "np.random.randn(10)"
   ]
  },
  {
   "cell_type": "code",
   "execution_count": null,
   "id": "earlier-prior",
   "metadata": {},
   "outputs": [],
   "source": []
  }
 ],
 "metadata": {
  "kernelspec": {
   "display_name": "Python 3",
   "language": "python",
   "name": "python3"
  },
  "language_info": {
   "codemirror_mode": {
    "name": "ipython",
    "version": 3
   },
   "file_extension": ".py",
   "mimetype": "text/x-python",
   "name": "python",
   "nbconvert_exporter": "python",
   "pygments_lexer": "ipython3",
   "version": "3.8.6"
  }
 },
 "nbformat": 4,
 "nbformat_minor": 5
}
